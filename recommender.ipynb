{
 "cells": [
  {
   "cell_type": "code",
   "execution_count": 1,
   "metadata": {
    "collapsed": true
   },
   "outputs": [],
   "source": [
    "import graphlab as gl "
   ]
  },
  {
   "cell_type": "code",
   "execution_count": 2,
   "metadata": {
    "collapsed": false
   },
   "outputs": [
    {
     "name": "stderr",
     "output_type": "stream",
     "text": [
      "[INFO] graphlab.cython.cy_server: GraphLab Create v2.1 started. Logging: /tmp/graphlab_server_1494114387.log\n"
     ]
    },
    {
     "name": "stdout",
     "output_type": "stream",
     "text": [
      "This non-commercial license of GraphLab Create for academic use is assigned to yufeng311@gwmail.gwu.edu and will expire on May 06, 2018.\n"
     ]
    },
    {
     "data": {
      "text/html": [
       "<pre>Finished parsing file /Users/Yu/Desktop/recommender.csv</pre>"
      ],
      "text/plain": [
       "Finished parsing file /Users/Yu/Desktop/recommender.csv"
      ]
     },
     "metadata": {},
     "output_type": "display_data"
    },
    {
     "data": {
      "text/html": [
       "<pre>Parsing completed. Parsed 100 lines in 0.47077 secs.</pre>"
      ],
      "text/plain": [
       "Parsing completed. Parsed 100 lines in 0.47077 secs."
      ]
     },
     "metadata": {},
     "output_type": "display_data"
    },
    {
     "name": "stdout",
     "output_type": "stream",
     "text": [
      "------------------------------------------------------\n",
      "Inferred types from first 100 line(s) of file as \n",
      "column_type_hints=[int,int,int]\n",
      "If parsing fails due to incorrect types, you can correct\n",
      "the inferred type list above and pass it to read_csv in\n",
      "the column_type_hints argument\n",
      "------------------------------------------------------\n"
     ]
    },
    {
     "data": {
      "text/html": [
       "<pre>Finished parsing file /Users/Yu/Desktop/recommender.csv</pre>"
      ],
      "text/plain": [
       "Finished parsing file /Users/Yu/Desktop/recommender.csv"
      ]
     },
     "metadata": {},
     "output_type": "display_data"
    },
    {
     "data": {
      "text/html": [
       "<pre>Parsing completed. Parsed 1048575 lines in 0.60472 secs.</pre>"
      ],
      "text/plain": [
       "Parsing completed. Parsed 1048575 lines in 0.60472 secs."
      ]
     },
     "metadata": {},
     "output_type": "display_data"
    }
   ],
   "source": [
    "ratings = gl.SFrame.read_csv('recommender.csv')"
   ]
  },
  {
   "cell_type": "code",
   "execution_count": 5,
   "metadata": {
    "collapsed": false
   },
   "outputs": [
    {
     "data": {
      "text/html": [
       "<div style=\"max-height:1000px;max-width:1500px;overflow:auto;\"><table frame=\"box\" rules=\"cols\">\n",
       "    <tr>\n",
       "        <th style=\"padding-left: 1em; padding-right: 1em; text-align: center\">uid</th>\n",
       "        <th style=\"padding-left: 1em; padding-right: 1em; text-align: center\">rid</th>\n",
       "        <th style=\"padding-left: 1em; padding-right: 1em; text-align: center\">ratings</th>\n",
       "    </tr>\n",
       "    <tr>\n",
       "        <td style=\"padding-left: 1em; padding-right: 1em; text-align: center; vertical-align: top\">154421907</td>\n",
       "        <td style=\"padding-left: 1em; padding-right: 1em; text-align: center; vertical-align: top\">6560858</td>\n",
       "        <td style=\"padding-left: 1em; padding-right: 1em; text-align: center; vertical-align: top\">3</td>\n",
       "    </tr>\n",
       "    <tr>\n",
       "        <td style=\"padding-left: 1em; padding-right: 1em; text-align: center; vertical-align: top\">154410267</td>\n",
       "        <td style=\"padding-left: 1em; padding-right: 1em; text-align: center; vertical-align: top\">6777172</td>\n",
       "        <td style=\"padding-left: 1em; padding-right: 1em; text-align: center; vertical-align: top\">4</td>\n",
       "    </tr>\n",
       "    <tr>\n",
       "        <td style=\"padding-left: 1em; padding-right: 1em; text-align: center; vertical-align: top\">154407793</td>\n",
       "        <td style=\"padding-left: 1em; padding-right: 1em; text-align: center; vertical-align: top\">19472465</td>\n",
       "        <td style=\"padding-left: 1em; padding-right: 1em; text-align: center; vertical-align: top\">1</td>\n",
       "    </tr>\n",
       "    <tr>\n",
       "        <td style=\"padding-left: 1em; padding-right: 1em; text-align: center; vertical-align: top\">154422681</td>\n",
       "        <td style=\"padding-left: 1em; padding-right: 1em; text-align: center; vertical-align: top\">891952</td>\n",
       "        <td style=\"padding-left: 1em; padding-right: 1em; text-align: center; vertical-align: top\">5</td>\n",
       "    </tr>\n",
       "    <tr>\n",
       "        <td style=\"padding-left: 1em; padding-right: 1em; text-align: center; vertical-align: top\">154408091</td>\n",
       "        <td style=\"padding-left: 1em; padding-right: 1em; text-align: center; vertical-align: top\">4623962</td>\n",
       "        <td style=\"padding-left: 1em; padding-right: 1em; text-align: center; vertical-align: top\">5</td>\n",
       "    </tr>\n",
       "    <tr>\n",
       "        <td style=\"padding-left: 1em; padding-right: 1em; text-align: center; vertical-align: top\">154422571</td>\n",
       "        <td style=\"padding-left: 1em; padding-right: 1em; text-align: center; vertical-align: top\">703750</td>\n",
       "        <td style=\"padding-left: 1em; padding-right: 1em; text-align: center; vertical-align: top\">5</td>\n",
       "    </tr>\n",
       "    <tr>\n",
       "        <td style=\"padding-left: 1em; padding-right: 1em; text-align: center; vertical-align: top\">154417311</td>\n",
       "        <td style=\"padding-left: 1em; padding-right: 1em; text-align: center; vertical-align: top\">6491500</td>\n",
       "        <td style=\"padding-left: 1em; padding-right: 1em; text-align: center; vertical-align: top\">2</td>\n",
       "    </tr>\n",
       "    <tr>\n",
       "        <td style=\"padding-left: 1em; padding-right: 1em; text-align: center; vertical-align: top\">154421166</td>\n",
       "        <td style=\"padding-left: 1em; padding-right: 1em; text-align: center; vertical-align: top\">1967689</td>\n",
       "        <td style=\"padding-left: 1em; padding-right: 1em; text-align: center; vertical-align: top\">3</td>\n",
       "    </tr>\n",
       "    <tr>\n",
       "        <td style=\"padding-left: 1em; padding-right: 1em; text-align: center; vertical-align: top\">154421859</td>\n",
       "        <td style=\"padding-left: 1em; padding-right: 1em; text-align: center; vertical-align: top\">6126586</td>\n",
       "        <td style=\"padding-left: 1em; padding-right: 1em; text-align: center; vertical-align: top\">1</td>\n",
       "    </tr>\n",
       "    <tr>\n",
       "        <td style=\"padding-left: 1em; padding-right: 1em; text-align: center; vertical-align: top\">154422660</td>\n",
       "        <td style=\"padding-left: 1em; padding-right: 1em; text-align: center; vertical-align: top\">11914644</td>\n",
       "        <td style=\"padding-left: 1em; padding-right: 1em; text-align: center; vertical-align: top\">5</td>\n",
       "    </tr>\n",
       "</table>\n",
       "[10 rows x 3 columns]<br/>\n",
       "</div>"
      ],
      "text/plain": [
       "Columns:\n",
       "\tuid\tint\n",
       "\trid\tint\n",
       "\tratings\tint\n",
       "\n",
       "Rows: 10\n",
       "\n",
       "Data:\n",
       "+-----------+----------+---------+\n",
       "|    uid    |   rid    | ratings |\n",
       "+-----------+----------+---------+\n",
       "| 154421907 | 6560858  |    3    |\n",
       "| 154410267 | 6777172  |    4    |\n",
       "| 154407793 | 19472465 |    1    |\n",
       "| 154422681 |  891952  |    5    |\n",
       "| 154408091 | 4623962  |    5    |\n",
       "| 154422571 |  703750  |    5    |\n",
       "| 154417311 | 6491500  |    2    |\n",
       "| 154421166 | 1967689  |    3    |\n",
       "| 154421859 | 6126586  |    1    |\n",
       "| 154422660 | 11914644 |    5    |\n",
       "+-----------+----------+---------+\n",
       "[10 rows x 3 columns]"
      ]
     },
     "execution_count": 5,
     "metadata": {},
     "output_type": "execute_result"
    }
   ],
   "source": [
    "ratings.head()"
   ]
  },
  {
   "cell_type": "code",
   "execution_count": 7,
   "metadata": {
    "collapsed": false
   },
   "outputs": [
    {
     "data": {
      "text/html": [
       "<pre>Recsys training: model = factorization_recommender</pre>"
      ],
      "text/plain": [
       "Recsys training: model = factorization_recommender"
      ]
     },
     "metadata": {},
     "output_type": "display_data"
    },
    {
     "data": {
      "text/html": [
       "<pre>Preparing data set.</pre>"
      ],
      "text/plain": [
       "Preparing data set."
      ]
     },
     "metadata": {},
     "output_type": "display_data"
    },
    {
     "data": {
      "text/html": [
       "<pre>    Data has 734004 observations with 81567 users and 129446 items.</pre>"
      ],
      "text/plain": [
       "    Data has 734004 observations with 81567 users and 129446 items."
      ]
     },
     "metadata": {},
     "output_type": "display_data"
    },
    {
     "data": {
      "text/html": [
       "<pre>    Data prepared in: 0.860287s</pre>"
      ],
      "text/plain": [
       "    Data prepared in: 0.860287s"
      ]
     },
     "metadata": {},
     "output_type": "display_data"
    },
    {
     "data": {
      "text/html": [
       "<pre>Training factorization_recommender for recommendations.</pre>"
      ],
      "text/plain": [
       "Training factorization_recommender for recommendations."
      ]
     },
     "metadata": {},
     "output_type": "display_data"
    },
    {
     "data": {
      "text/html": [
       "<pre>+--------------------------------+--------------------------------------------------+----------+</pre>"
      ],
      "text/plain": [
       "+--------------------------------+--------------------------------------------------+----------+"
      ]
     },
     "metadata": {},
     "output_type": "display_data"
    },
    {
     "data": {
      "text/html": [
       "<pre>| Parameter                      | Description                                      | Value    |</pre>"
      ],
      "text/plain": [
       "| Parameter                      | Description                                      | Value    |"
      ]
     },
     "metadata": {},
     "output_type": "display_data"
    },
    {
     "data": {
      "text/html": [
       "<pre>+--------------------------------+--------------------------------------------------+----------+</pre>"
      ],
      "text/plain": [
       "+--------------------------------+--------------------------------------------------+----------+"
      ]
     },
     "metadata": {},
     "output_type": "display_data"
    },
    {
     "data": {
      "text/html": [
       "<pre>| num_factors                    | Factor Dimension                                 | 8        |</pre>"
      ],
      "text/plain": [
       "| num_factors                    | Factor Dimension                                 | 8        |"
      ]
     },
     "metadata": {},
     "output_type": "display_data"
    },
    {
     "data": {
      "text/html": [
       "<pre>| regularization                 | L2 Regularization on Factors                     | 1e-08    |</pre>"
      ],
      "text/plain": [
       "| regularization                 | L2 Regularization on Factors                     | 1e-08    |"
      ]
     },
     "metadata": {},
     "output_type": "display_data"
    },
    {
     "data": {
      "text/html": [
       "<pre>| solver                         | Solver used for training                         | sgd      |</pre>"
      ],
      "text/plain": [
       "| solver                         | Solver used for training                         | sgd      |"
      ]
     },
     "metadata": {},
     "output_type": "display_data"
    },
    {
     "data": {
      "text/html": [
       "<pre>| linear_regularization          | L2 Regularization on Linear Coefficients         | 1e-10    |</pre>"
      ],
      "text/plain": [
       "| linear_regularization          | L2 Regularization on Linear Coefficients         | 1e-10    |"
      ]
     },
     "metadata": {},
     "output_type": "display_data"
    },
    {
     "data": {
      "text/html": [
       "<pre>| max_iterations                 | Maximum Number of Iterations                     | 50       |</pre>"
      ],
      "text/plain": [
       "| max_iterations                 | Maximum Number of Iterations                     | 50       |"
      ]
     },
     "metadata": {},
     "output_type": "display_data"
    },
    {
     "data": {
      "text/html": [
       "<pre>+--------------------------------+--------------------------------------------------+----------+</pre>"
      ],
      "text/plain": [
       "+--------------------------------+--------------------------------------------------+----------+"
      ]
     },
     "metadata": {},
     "output_type": "display_data"
    },
    {
     "data": {
      "text/html": [
       "<pre>  Optimizing model using SGD; tuning step size.</pre>"
      ],
      "text/plain": [
       "  Optimizing model using SGD; tuning step size."
      ]
     },
     "metadata": {},
     "output_type": "display_data"
    },
    {
     "data": {
      "text/html": [
       "<pre>  Using 91750 / 734004 points for tuning the step size.</pre>"
      ],
      "text/plain": [
       "  Using 91750 / 734004 points for tuning the step size."
      ]
     },
     "metadata": {},
     "output_type": "display_data"
    },
    {
     "data": {
      "text/html": [
       "<pre>+---------+-------------------+------------------------------------------+</pre>"
      ],
      "text/plain": [
       "+---------+-------------------+------------------------------------------+"
      ]
     },
     "metadata": {},
     "output_type": "display_data"
    },
    {
     "data": {
      "text/html": [
       "<pre>| Attempt | Initial Step Size | Estimated Objective Value                |</pre>"
      ],
      "text/plain": [
       "| Attempt | Initial Step Size | Estimated Objective Value                |"
      ]
     },
     "metadata": {},
     "output_type": "display_data"
    },
    {
     "data": {
      "text/html": [
       "<pre>+---------+-------------------+------------------------------------------+</pre>"
      ],
      "text/plain": [
       "+---------+-------------------+------------------------------------------+"
      ]
     },
     "metadata": {},
     "output_type": "display_data"
    },
    {
     "data": {
      "text/html": [
       "<pre>| 0       | 25                | Not Viable                               |</pre>"
      ],
      "text/plain": [
       "| 0       | 25                | Not Viable                               |"
      ]
     },
     "metadata": {},
     "output_type": "display_data"
    },
    {
     "data": {
      "text/html": [
       "<pre>| 1       | 6.25              | Not Viable                               |</pre>"
      ],
      "text/plain": [
       "| 1       | 6.25              | Not Viable                               |"
      ]
     },
     "metadata": {},
     "output_type": "display_data"
    },
    {
     "data": {
      "text/html": [
       "<pre>| 2       | 1.5625            | Not Viable                               |</pre>"
      ],
      "text/plain": [
       "| 2       | 1.5625            | Not Viable                               |"
      ]
     },
     "metadata": {},
     "output_type": "display_data"
    },
    {
     "data": {
      "text/html": [
       "<pre>| 3       | 0.390625          | No Decrease (5.30958 >= 3.19383)         |</pre>"
      ],
      "text/plain": [
       "| 3       | 0.390625          | No Decrease (5.30958 >= 3.19383)         |"
      ]
     },
     "metadata": {},
     "output_type": "display_data"
    },
    {
     "data": {
      "text/html": [
       "<pre>| 4       | 0.0976562         | 0.669691                                 |</pre>"
      ],
      "text/plain": [
       "| 4       | 0.0976562         | 0.669691                                 |"
      ]
     },
     "metadata": {},
     "output_type": "display_data"
    },
    {
     "data": {
      "text/html": [
       "<pre>| 5       | 0.0488281         | 1.12005                                  |</pre>"
      ],
      "text/plain": [
       "| 5       | 0.0488281         | 1.12005                                  |"
      ]
     },
     "metadata": {},
     "output_type": "display_data"
    },
    {
     "data": {
      "text/html": [
       "<pre>| 6       | 0.0244141         | 1.63771                                  |</pre>"
      ],
      "text/plain": [
       "| 6       | 0.0244141         | 1.63771                                  |"
      ]
     },
     "metadata": {},
     "output_type": "display_data"
    },
    {
     "data": {
      "text/html": [
       "<pre>+---------+-------------------+------------------------------------------+</pre>"
      ],
      "text/plain": [
       "+---------+-------------------+------------------------------------------+"
      ]
     },
     "metadata": {},
     "output_type": "display_data"
    },
    {
     "data": {
      "text/html": [
       "<pre>| Final   | 0.0976562         | 0.669691                                 |</pre>"
      ],
      "text/plain": [
       "| Final   | 0.0976562         | 0.669691                                 |"
      ]
     },
     "metadata": {},
     "output_type": "display_data"
    },
    {
     "data": {
      "text/html": [
       "<pre>+---------+-------------------+------------------------------------------+</pre>"
      ],
      "text/plain": [
       "+---------+-------------------+------------------------------------------+"
      ]
     },
     "metadata": {},
     "output_type": "display_data"
    },
    {
     "data": {
      "text/html": [
       "<pre>Starting Optimization.</pre>"
      ],
      "text/plain": [
       "Starting Optimization."
      ]
     },
     "metadata": {},
     "output_type": "display_data"
    },
    {
     "data": {
      "text/html": [
       "<pre>+---------+--------------+-------------------+-----------------------+-------------+</pre>"
      ],
      "text/plain": [
       "+---------+--------------+-------------------+-----------------------+-------------+"
      ]
     },
     "metadata": {},
     "output_type": "display_data"
    },
    {
     "data": {
      "text/html": [
       "<pre>| Iter.   | Elapsed Time | Approx. Objective | Approx. Training RMSE | Step Size   |</pre>"
      ],
      "text/plain": [
       "| Iter.   | Elapsed Time | Approx. Objective | Approx. Training RMSE | Step Size   |"
      ]
     },
     "metadata": {},
     "output_type": "display_data"
    },
    {
     "data": {
      "text/html": [
       "<pre>+---------+--------------+-------------------+-----------------------+-------------+</pre>"
      ],
      "text/plain": [
       "+---------+--------------+-------------------+-----------------------+-------------+"
      ]
     },
     "metadata": {},
     "output_type": "display_data"
    },
    {
     "data": {
      "text/html": [
       "<pre>| Initial | 74us         | 3.18986           | 1.78602               |             |</pre>"
      ],
      "text/plain": [
       "| Initial | 74us         | 3.18986           | 1.78602               |             |"
      ]
     },
     "metadata": {},
     "output_type": "display_data"
    },
    {
     "data": {
      "text/html": [
       "<pre>+---------+--------------+-------------------+-----------------------+-------------+</pre>"
      ],
      "text/plain": [
       "+---------+--------------+-------------------+-----------------------+-------------+"
      ]
     },
     "metadata": {},
     "output_type": "display_data"
    },
    {
     "data": {
      "text/html": [
       "<pre>| 1       | 204.332ms    | 2.3993            | 1.54863               | 0.0976562   |</pre>"
      ],
      "text/plain": [
       "| 1       | 204.332ms    | 2.3993            | 1.54863               | 0.0976562   |"
      ]
     },
     "metadata": {},
     "output_type": "display_data"
    },
    {
     "data": {
      "text/html": [
       "<pre>| 2       | 358.475ms    | 1.66814           | 1.29125               | 0.0580668   |</pre>"
      ],
      "text/plain": [
       "| 2       | 358.475ms    | 1.66814           | 1.29125               | 0.0580668   |"
      ]
     },
     "metadata": {},
     "output_type": "display_data"
    },
    {
     "data": {
      "text/html": [
       "<pre>| 3       | 490.11ms     | 1.31985           | 1.1485                | 0.042841    |</pre>"
      ],
      "text/plain": [
       "| 3       | 490.11ms     | 1.31985           | 1.1485                | 0.042841    |"
      ]
     },
     "metadata": {},
     "output_type": "display_data"
    },
    {
     "data": {
      "text/html": [
       "<pre>| 4       | 668.472ms    | 1.11779           | 1.05685               | 0.0345267   |</pre>"
      ],
      "text/plain": [
       "| 4       | 668.472ms    | 1.11779           | 1.05685               | 0.0345267   |"
      ]
     },
     "metadata": {},
     "output_type": "display_data"
    },
    {
     "data": {
      "text/html": [
       "<pre>| 5       | 820.27ms     | 0.995972          | 0.997517              | 0.029206    |</pre>"
      ],
      "text/plain": [
       "| 5       | 820.27ms     | 0.995972          | 0.997517              | 0.029206    |"
      ]
     },
     "metadata": {},
     "output_type": "display_data"
    },
    {
     "data": {
      "text/html": [
       "<pre>| 6       | 945.992ms    | 0.915415          | 0.956244              | 0.0254734   |</pre>"
      ],
      "text/plain": [
       "| 6       | 945.992ms    | 0.915415          | 0.956244              | 0.0254734   |"
      ]
     },
     "metadata": {},
     "output_type": "display_data"
    },
    {
     "data": {
      "text/html": [
       "<pre>| 10      | 1.40s        | 0.758943          | 0.870469              | 0.017366    |</pre>"
      ],
      "text/plain": [
       "| 10      | 1.40s        | 0.758943          | 0.870469              | 0.017366    |"
      ]
     },
     "metadata": {},
     "output_type": "display_data"
    },
    {
     "data": {
      "text/html": [
       "<pre>| 11      | 1.54s        | 0.738285          | 0.8585                | 0.016168    |</pre>"
      ],
      "text/plain": [
       "| 11      | 1.54s        | 0.738285          | 0.8585                | 0.016168    |"
      ]
     },
     "metadata": {},
     "output_type": "display_data"
    },
    {
     "data": {
      "text/html": [
       "<pre>| 20      | 2.54s        | 0.646913          | 0.803401              | 0.0103259   |</pre>"
      ],
      "text/plain": [
       "| 20      | 2.54s        | 0.646913          | 0.803401              | 0.0103259   |"
      ]
     },
     "metadata": {},
     "output_type": "display_data"
    },
    {
     "data": {
      "text/html": [
       "<pre>| 30      | 3.64s        | 0.60922           | 0.779519              | 0.00761832  |</pre>"
      ],
      "text/plain": [
       "| 30      | 3.64s        | 0.60922           | 0.779519              | 0.00761832  |"
      ]
     },
     "metadata": {},
     "output_type": "display_data"
    },
    {
     "data": {
      "text/html": [
       "<pre>| 40      | 4.90s        | 0.589452          | 0.766691              | 0.00613981  |</pre>"
      ],
      "text/plain": [
       "| 40      | 4.90s        | 0.589452          | 0.766691              | 0.00613981  |"
      ]
     },
     "metadata": {},
     "output_type": "display_data"
    },
    {
     "data": {
      "text/html": [
       "<pre>| 50      | 5.99s        | 0.577466          | 0.758802              | 0.00519365  |</pre>"
      ],
      "text/plain": [
       "| 50      | 5.99s        | 0.577466          | 0.758802              | 0.00519365  |"
      ]
     },
     "metadata": {},
     "output_type": "display_data"
    },
    {
     "data": {
      "text/html": [
       "<pre>+---------+--------------+-------------------+-----------------------+-------------+</pre>"
      ],
      "text/plain": [
       "+---------+--------------+-------------------+-----------------------+-------------+"
      ]
     },
     "metadata": {},
     "output_type": "display_data"
    },
    {
     "data": {
      "text/html": [
       "<pre>Optimization Complete: Maximum number of passes through the data reached.</pre>"
      ],
      "text/plain": [
       "Optimization Complete: Maximum number of passes through the data reached."
      ]
     },
     "metadata": {},
     "output_type": "display_data"
    },
    {
     "data": {
      "text/html": [
       "<pre>Computing final objective value and training RMSE.</pre>"
      ],
      "text/plain": [
       "Computing final objective value and training RMSE."
      ]
     },
     "metadata": {},
     "output_type": "display_data"
    },
    {
     "data": {
      "text/html": [
       "<pre>       Final objective value: 0.547897</pre>"
      ],
      "text/plain": [
       "       Final objective value: 0.547897"
      ]
     },
     "metadata": {},
     "output_type": "display_data"
    },
    {
     "data": {
      "text/html": [
       "<pre>       Final training RMSE: 0.739061</pre>"
      ],
      "text/plain": [
       "       Final training RMSE: 0.739061"
      ]
     },
     "metadata": {},
     "output_type": "display_data"
    },
    {
     "data": {
      "text/html": [
       "<pre>Recsys training: model = ranking_factorization_recommender</pre>"
      ],
      "text/plain": [
       "Recsys training: model = ranking_factorization_recommender"
      ]
     },
     "metadata": {},
     "output_type": "display_data"
    },
    {
     "data": {
      "text/html": [
       "<pre>Preparing data set.</pre>"
      ],
      "text/plain": [
       "Preparing data set."
      ]
     },
     "metadata": {},
     "output_type": "display_data"
    },
    {
     "data": {
      "text/html": [
       "<pre>    Data has 734004 observations with 81567 users and 129446 items.</pre>"
      ],
      "text/plain": [
       "    Data has 734004 observations with 81567 users and 129446 items."
      ]
     },
     "metadata": {},
     "output_type": "display_data"
    },
    {
     "data": {
      "text/html": [
       "<pre>    Data prepared in: 0.939545s</pre>"
      ],
      "text/plain": [
       "    Data prepared in: 0.939545s"
      ]
     },
     "metadata": {},
     "output_type": "display_data"
    },
    {
     "data": {
      "text/html": [
       "<pre>Training ranking_factorization_recommender for recommendations.</pre>"
      ],
      "text/plain": [
       "Training ranking_factorization_recommender for recommendations."
      ]
     },
     "metadata": {},
     "output_type": "display_data"
    },
    {
     "data": {
      "text/html": [
       "<pre>+--------------------------------+--------------------------------------------------+----------+</pre>"
      ],
      "text/plain": [
       "+--------------------------------+--------------------------------------------------+----------+"
      ]
     },
     "metadata": {},
     "output_type": "display_data"
    },
    {
     "data": {
      "text/html": [
       "<pre>| Parameter                      | Description                                      | Value    |</pre>"
      ],
      "text/plain": [
       "| Parameter                      | Description                                      | Value    |"
      ]
     },
     "metadata": {},
     "output_type": "display_data"
    },
    {
     "data": {
      "text/html": [
       "<pre>+--------------------------------+--------------------------------------------------+----------+</pre>"
      ],
      "text/plain": [
       "+--------------------------------+--------------------------------------------------+----------+"
      ]
     },
     "metadata": {},
     "output_type": "display_data"
    },
    {
     "data": {
      "text/html": [
       "<pre>| num_factors                    | Factor Dimension                                 | 32       |</pre>"
      ],
      "text/plain": [
       "| num_factors                    | Factor Dimension                                 | 32       |"
      ]
     },
     "metadata": {},
     "output_type": "display_data"
    },
    {
     "data": {
      "text/html": [
       "<pre>| regularization                 | L2 Regularization on Factors                     | 1e-09    |</pre>"
      ],
      "text/plain": [
       "| regularization                 | L2 Regularization on Factors                     | 1e-09    |"
      ]
     },
     "metadata": {},
     "output_type": "display_data"
    },
    {
     "data": {
      "text/html": [
       "<pre>| solver                         | Solver used for training                         | sgd      |</pre>"
      ],
      "text/plain": [
       "| solver                         | Solver used for training                         | sgd      |"
      ]
     },
     "metadata": {},
     "output_type": "display_data"
    },
    {
     "data": {
      "text/html": [
       "<pre>| linear_regularization          | L2 Regularization on Linear Coefficients         | 1e-09    |</pre>"
      ],
      "text/plain": [
       "| linear_regularization          | L2 Regularization on Linear Coefficients         | 1e-09    |"
      ]
     },
     "metadata": {},
     "output_type": "display_data"
    },
    {
     "data": {
      "text/html": [
       "<pre>| ranking_regularization         | Rank-based Regularization Weight                 | 0.25     |</pre>"
      ],
      "text/plain": [
       "| ranking_regularization         | Rank-based Regularization Weight                 | 0.25     |"
      ]
     },
     "metadata": {},
     "output_type": "display_data"
    },
    {
     "data": {
      "text/html": [
       "<pre>| max_iterations                 | Maximum Number of Iterations                     | 25       |</pre>"
      ],
      "text/plain": [
       "| max_iterations                 | Maximum Number of Iterations                     | 25       |"
      ]
     },
     "metadata": {},
     "output_type": "display_data"
    },
    {
     "data": {
      "text/html": [
       "<pre>+--------------------------------+--------------------------------------------------+----------+</pre>"
      ],
      "text/plain": [
       "+--------------------------------+--------------------------------------------------+----------+"
      ]
     },
     "metadata": {},
     "output_type": "display_data"
    },
    {
     "data": {
      "text/html": [
       "<pre>  Optimizing model using SGD; tuning step size.</pre>"
      ],
      "text/plain": [
       "  Optimizing model using SGD; tuning step size."
      ]
     },
     "metadata": {},
     "output_type": "display_data"
    },
    {
     "data": {
      "text/html": [
       "<pre>  Using 91750 / 734004 points for tuning the step size.</pre>"
      ],
      "text/plain": [
       "  Using 91750 / 734004 points for tuning the step size."
      ]
     },
     "metadata": {},
     "output_type": "display_data"
    },
    {
     "data": {
      "text/html": [
       "<pre>+---------+-------------------+------------------------------------------+</pre>"
      ],
      "text/plain": [
       "+---------+-------------------+------------------------------------------+"
      ]
     },
     "metadata": {},
     "output_type": "display_data"
    },
    {
     "data": {
      "text/html": [
       "<pre>| Attempt | Initial Step Size | Estimated Objective Value                |</pre>"
      ],
      "text/plain": [
       "| Attempt | Initial Step Size | Estimated Objective Value                |"
      ]
     },
     "metadata": {},
     "output_type": "display_data"
    },
    {
     "data": {
      "text/html": [
       "<pre>+---------+-------------------+------------------------------------------+</pre>"
      ],
      "text/plain": [
       "+---------+-------------------+------------------------------------------+"
      ]
     },
     "metadata": {},
     "output_type": "display_data"
    },
    {
     "data": {
      "text/html": [
       "<pre>| 0       | 25                | Not Viable                               |</pre>"
      ],
      "text/plain": [
       "| 0       | 25                | Not Viable                               |"
      ]
     },
     "metadata": {},
     "output_type": "display_data"
    },
    {
     "data": {
      "text/html": [
       "<pre>| 1       | 6.25              | Not Viable                               |</pre>"
      ],
      "text/plain": [
       "| 1       | 6.25              | Not Viable                               |"
      ]
     },
     "metadata": {},
     "output_type": "display_data"
    },
    {
     "data": {
      "text/html": [
       "<pre>| 2       | 1.5625            | Not Viable                               |</pre>"
      ],
      "text/plain": [
       "| 2       | 1.5625            | Not Viable                               |"
      ]
     },
     "metadata": {},
     "output_type": "display_data"
    },
    {
     "data": {
      "text/html": [
       "<pre>| 3       | 0.390625          | Not Viable                               |</pre>"
      ],
      "text/plain": [
       "| 3       | 0.390625          | Not Viable                               |"
      ]
     },
     "metadata": {},
     "output_type": "display_data"
    },
    {
     "data": {
      "text/html": [
       "<pre>| 4       | 0.0976562         | 2.99811                                  |</pre>"
      ],
      "text/plain": [
       "| 4       | 0.0976562         | 2.99811                                  |"
      ]
     },
     "metadata": {},
     "output_type": "display_data"
    },
    {
     "data": {
      "text/html": [
       "<pre>| 5       | 0.0488281         | 3.64903                                  |</pre>"
      ],
      "text/plain": [
       "| 5       | 0.0488281         | 3.64903                                  |"
      ]
     },
     "metadata": {},
     "output_type": "display_data"
    },
    {
     "data": {
      "text/html": [
       "<pre>| 6       | 0.0244141         | 4.2588                                   |</pre>"
      ],
      "text/plain": [
       "| 6       | 0.0244141         | 4.2588                                   |"
      ]
     },
     "metadata": {},
     "output_type": "display_data"
    },
    {
     "data": {
      "text/html": [
       "<pre>| 7       | 0.012207          | 4.78841                                  |</pre>"
      ],
      "text/plain": [
       "| 7       | 0.012207          | 4.78841                                  |"
      ]
     },
     "metadata": {},
     "output_type": "display_data"
    },
    {
     "data": {
      "text/html": [
       "<pre>+---------+-------------------+------------------------------------------+</pre>"
      ],
      "text/plain": [
       "+---------+-------------------+------------------------------------------+"
      ]
     },
     "metadata": {},
     "output_type": "display_data"
    },
    {
     "data": {
      "text/html": [
       "<pre>| Final   | 0.0976562         | 2.99811                                  |</pre>"
      ],
      "text/plain": [
       "| Final   | 0.0976562         | 2.99811                                  |"
      ]
     },
     "metadata": {},
     "output_type": "display_data"
    },
    {
     "data": {
      "text/html": [
       "<pre>+---------+-------------------+------------------------------------------+</pre>"
      ],
      "text/plain": [
       "+---------+-------------------+------------------------------------------+"
      ]
     },
     "metadata": {},
     "output_type": "display_data"
    },
    {
     "data": {
      "text/html": [
       "<pre>Starting Optimization.</pre>"
      ],
      "text/plain": [
       "Starting Optimization."
      ]
     },
     "metadata": {},
     "output_type": "display_data"
    },
    {
     "data": {
      "text/html": [
       "<pre>+---------+--------------+-------------------+-----------------------+-------------+</pre>"
      ],
      "text/plain": [
       "+---------+--------------+-------------------+-----------------------+-------------+"
      ]
     },
     "metadata": {},
     "output_type": "display_data"
    },
    {
     "data": {
      "text/html": [
       "<pre>| Iter.   | Elapsed Time | Approx. Objective | Approx. Training RMSE | Step Size   |</pre>"
      ],
      "text/plain": [
       "| Iter.   | Elapsed Time | Approx. Objective | Approx. Training RMSE | Step Size   |"
      ]
     },
     "metadata": {},
     "output_type": "display_data"
    },
    {
     "data": {
      "text/html": [
       "<pre>+---------+--------------+-------------------+-----------------------+-------------+</pre>"
      ],
      "text/plain": [
       "+---------+--------------+-------------------+-----------------------+-------------+"
      ]
     },
     "metadata": {},
     "output_type": "display_data"
    },
    {
     "data": {
      "text/html": [
       "<pre>| Initial | 90us         | 6.25389           | 1.78602               |             |</pre>"
      ],
      "text/plain": [
       "| Initial | 90us         | 6.25389           | 1.78602               |             |"
      ]
     },
     "metadata": {},
     "output_type": "display_data"
    },
    {
     "data": {
      "text/html": [
       "<pre>+---------+--------------+-------------------+-----------------------+-------------+</pre>"
      ],
      "text/plain": [
       "+---------+--------------+-------------------+-----------------------+-------------+"
      ]
     },
     "metadata": {},
     "output_type": "display_data"
    },
    {
     "data": {
      "text/html": [
       "<pre>| 1       | 1.07s        | DIVERGED          | DIVERGED              | 0.0976562   |</pre>"
      ],
      "text/plain": [
       "| 1       | 1.07s        | DIVERGED          | DIVERGED              | 0.0976562   |"
      ]
     },
     "metadata": {},
     "output_type": "display_data"
    },
    {
     "data": {
      "text/html": [
       "<pre>| RESET   | 1.85s        | 6.25387           | 1.78601               |             |</pre>"
      ],
      "text/plain": [
       "| RESET   | 1.85s        | 6.25387           | 1.78601               |             |"
      ]
     },
     "metadata": {},
     "output_type": "display_data"
    },
    {
     "data": {
      "text/html": [
       "<pre>| 1       | 2.56s        | 4.74512           | 1.57189               | 0.0488281   |</pre>"
      ],
      "text/plain": [
       "| 1       | 2.56s        | 4.74512           | 1.57189               | 0.0488281   |"
      ]
     },
     "metadata": {},
     "output_type": "display_data"
    },
    {
     "data": {
      "text/html": [
       "<pre>| 2       | 3.24s        | 3.95817           | 1.46753               | 0.0290334   |</pre>"
      ],
      "text/plain": [
       "| 2       | 3.24s        | 3.95817           | 1.46753               | 0.0290334   |"
      ]
     },
     "metadata": {},
     "output_type": "display_data"
    },
    {
     "data": {
      "text/html": [
       "<pre>| 3       | 4.03s        | 3.60784           | 1.39832               | 0.0214205   |</pre>"
      ],
      "text/plain": [
       "| 3       | 4.03s        | 3.60784           | 1.39832               | 0.0214205   |"
      ]
     },
     "metadata": {},
     "output_type": "display_data"
    },
    {
     "data": {
      "text/html": [
       "<pre>| 4       | 4.78s        | 3.38647           | 1.35328               | 0.0172633   |</pre>"
      ],
      "text/plain": [
       "| 4       | 4.78s        | 3.38647           | 1.35328               | 0.0172633   |"
      ]
     },
     "metadata": {},
     "output_type": "display_data"
    },
    {
     "data": {
      "text/html": [
       "<pre>| 5       | 5.57s        | 3.22482           | 1.31778               | 0.014603    |</pre>"
      ],
      "text/plain": [
       "| 5       | 5.57s        | 3.22482           | 1.31778               | 0.014603    |"
      ]
     },
     "metadata": {},
     "output_type": "display_data"
    },
    {
     "data": {
      "text/html": [
       "<pre>| 6       | 6.26s        | 3.09708           | 1.28766               | 0.0127367   |</pre>"
      ],
      "text/plain": [
       "| 6       | 6.26s        | 3.09708           | 1.28766               | 0.0127367   |"
      ]
     },
     "metadata": {},
     "output_type": "display_data"
    },
    {
     "data": {
      "text/html": [
       "<pre>| 9       | 8.45s        | 2.82332           | 1.21915               | 0.00939698  |</pre>"
      ],
      "text/plain": [
       "| 9       | 8.45s        | 2.82332           | 1.21915               | 0.00939698  |"
      ]
     },
     "metadata": {},
     "output_type": "display_data"
    },
    {
     "data": {
      "text/html": [
       "<pre>| 11      | 9.88s        | 2.69369           | 1.18482               | 0.00808399  |</pre>"
      ],
      "text/plain": [
       "| 11      | 9.88s        | 2.69369           | 1.18482               | 0.00808399  |"
      ]
     },
     "metadata": {},
     "output_type": "display_data"
    },
    {
     "data": {
      "text/html": [
       "<pre>| 14      | 12.13s       | 2.54211           | 1.14274               | 0.00674643  |</pre>"
      ],
      "text/plain": [
       "| 14      | 12.13s       | 2.54211           | 1.14274               | 0.00674643  |"
      ]
     },
     "metadata": {},
     "output_type": "display_data"
    },
    {
     "data": {
      "text/html": [
       "<pre>| 19      | 15.85s       | 2.35285           | 1.08994               | 0.00536543  |</pre>"
      ],
      "text/plain": [
       "| 19      | 15.85s       | 2.35285           | 1.08994               | 0.00536543  |"
      ]
     },
     "metadata": {},
     "output_type": "display_data"
    },
    {
     "data": {
      "text/html": [
       "<pre>| 24      | 19.28s       | 2.21575           | 1.05082               | 0.0045031   |</pre>"
      ],
      "text/plain": [
       "| 24      | 19.28s       | 2.21575           | 1.05082               | 0.0045031   |"
      ]
     },
     "metadata": {},
     "output_type": "display_data"
    },
    {
     "data": {
      "text/html": [
       "<pre>+---------+--------------+-------------------+-----------------------+-------------+</pre>"
      ],
      "text/plain": [
       "+---------+--------------+-------------------+-----------------------+-------------+"
      ]
     },
     "metadata": {},
     "output_type": "display_data"
    },
    {
     "data": {
      "text/html": [
       "<pre>Optimization Complete: Maximum number of passes through the data reached.</pre>"
      ],
      "text/plain": [
       "Optimization Complete: Maximum number of passes through the data reached."
      ]
     },
     "metadata": {},
     "output_type": "display_data"
    },
    {
     "data": {
      "text/html": [
       "<pre>Computing final objective value and training RMSE.</pre>"
      ],
      "text/plain": [
       "Computing final objective value and training RMSE."
      ]
     },
     "metadata": {},
     "output_type": "display_data"
    },
    {
     "data": {
      "text/html": [
       "<pre>       Final objective value: 2.13094</pre>"
      ],
      "text/plain": [
       "       Final objective value: 2.13094"
      ]
     },
     "metadata": {},
     "output_type": "display_data"
    },
    {
     "data": {
      "text/html": [
       "<pre>       Final training RMSE: 1.01851</pre>"
      ],
      "text/plain": [
       "       Final training RMSE: 1.01851"
      ]
     },
     "metadata": {},
     "output_type": "display_data"
    }
   ],
   "source": [
    "# split train and test\n",
    "training_data, test_data = gl.recommender.util.random_split_by_user(ratings,\n",
    "                                                                          user_id='uid',\n",
    "                                                                          item_id='rid',\n",
    "                                                                          max_num_users=160000,\n",
    "                                                                          item_test_proportion=0.3,\n",
    "                                                                          random_seed=0)\n",
    "\n",
    "# generate recommendation model\n",
    "m1 = gl.factorization_recommender.create(training_data, 'uid', 'rid', target='ratings')\n",
    "m2 = gl.ranking_factorization_recommender.create(training_data, 'uid', 'rid', target='ratings')"
   ]
  },
  {
   "cell_type": "code",
   "execution_count": 8,
   "metadata": {
    "collapsed": false
   },
   "outputs": [
    {
     "name": "stdout",
     "output_type": "stream",
     "text": [
      "PROGRESS: Evaluate model m1\n"
     ]
    },
    {
     "data": {
      "text/html": [
       "<pre>recommendations finished on 1000/65727 queries. users per second: 692.547</pre>"
      ],
      "text/plain": [
       "recommendations finished on 1000/65727 queries. users per second: 692.547"
      ]
     },
     "metadata": {},
     "output_type": "display_data"
    },
    {
     "data": {
      "text/html": [
       "<pre>recommendations finished on 2000/65727 queries. users per second: 709.577</pre>"
      ],
      "text/plain": [
       "recommendations finished on 2000/65727 queries. users per second: 709.577"
      ]
     },
     "metadata": {},
     "output_type": "display_data"
    },
    {
     "data": {
      "text/html": [
       "<pre>recommendations finished on 3000/65727 queries. users per second: 687.471</pre>"
      ],
      "text/plain": [
       "recommendations finished on 3000/65727 queries. users per second: 687.471"
      ]
     },
     "metadata": {},
     "output_type": "display_data"
    },
    {
     "data": {
      "text/html": [
       "<pre>recommendations finished on 4000/65727 queries. users per second: 679.188</pre>"
      ],
      "text/plain": [
       "recommendations finished on 4000/65727 queries. users per second: 679.188"
      ]
     },
     "metadata": {},
     "output_type": "display_data"
    },
    {
     "data": {
      "text/html": [
       "<pre>recommendations finished on 5000/65727 queries. users per second: 688.919</pre>"
      ],
      "text/plain": [
       "recommendations finished on 5000/65727 queries. users per second: 688.919"
      ]
     },
     "metadata": {},
     "output_type": "display_data"
    },
    {
     "data": {
      "text/html": [
       "<pre>recommendations finished on 6000/65727 queries. users per second: 699.426</pre>"
      ],
      "text/plain": [
       "recommendations finished on 6000/65727 queries. users per second: 699.426"
      ]
     },
     "metadata": {},
     "output_type": "display_data"
    },
    {
     "data": {
      "text/html": [
       "<pre>recommendations finished on 7000/65727 queries. users per second: 708.549</pre>"
      ],
      "text/plain": [
       "recommendations finished on 7000/65727 queries. users per second: 708.549"
      ]
     },
     "metadata": {},
     "output_type": "display_data"
    },
    {
     "data": {
      "text/html": [
       "<pre>recommendations finished on 8000/65727 queries. users per second: 708.264</pre>"
      ],
      "text/plain": [
       "recommendations finished on 8000/65727 queries. users per second: 708.264"
      ]
     },
     "metadata": {},
     "output_type": "display_data"
    },
    {
     "data": {
      "text/html": [
       "<pre>recommendations finished on 9000/65727 queries. users per second: 707.676</pre>"
      ],
      "text/plain": [
       "recommendations finished on 9000/65727 queries. users per second: 707.676"
      ]
     },
     "metadata": {},
     "output_type": "display_data"
    },
    {
     "data": {
      "text/html": [
       "<pre>recommendations finished on 10000/65727 queries. users per second: 705.458</pre>"
      ],
      "text/plain": [
       "recommendations finished on 10000/65727 queries. users per second: 705.458"
      ]
     },
     "metadata": {},
     "output_type": "display_data"
    },
    {
     "data": {
      "text/html": [
       "<pre>recommendations finished on 11000/65727 queries. users per second: 709.046</pre>"
      ],
      "text/plain": [
       "recommendations finished on 11000/65727 queries. users per second: 709.046"
      ]
     },
     "metadata": {},
     "output_type": "display_data"
    },
    {
     "data": {
      "text/html": [
       "<pre>recommendations finished on 12000/65727 queries. users per second: 708.202</pre>"
      ],
      "text/plain": [
       "recommendations finished on 12000/65727 queries. users per second: 708.202"
      ]
     },
     "metadata": {},
     "output_type": "display_data"
    },
    {
     "data": {
      "text/html": [
       "<pre>recommendations finished on 13000/65727 queries. users per second: 713.101</pre>"
      ],
      "text/plain": [
       "recommendations finished on 13000/65727 queries. users per second: 713.101"
      ]
     },
     "metadata": {},
     "output_type": "display_data"
    },
    {
     "data": {
      "text/html": [
       "<pre>recommendations finished on 14000/65727 queries. users per second: 716.422</pre>"
      ],
      "text/plain": [
       "recommendations finished on 14000/65727 queries. users per second: 716.422"
      ]
     },
     "metadata": {},
     "output_type": "display_data"
    },
    {
     "data": {
      "text/html": [
       "<pre>recommendations finished on 15000/65727 queries. users per second: 720.101</pre>"
      ],
      "text/plain": [
       "recommendations finished on 15000/65727 queries. users per second: 720.101"
      ]
     },
     "metadata": {},
     "output_type": "display_data"
    },
    {
     "data": {
      "text/html": [
       "<pre>recommendations finished on 16000/65727 queries. users per second: 723.343</pre>"
      ],
      "text/plain": [
       "recommendations finished on 16000/65727 queries. users per second: 723.343"
      ]
     },
     "metadata": {},
     "output_type": "display_data"
    },
    {
     "data": {
      "text/html": [
       "<pre>recommendations finished on 17000/65727 queries. users per second: 726.071</pre>"
      ],
      "text/plain": [
       "recommendations finished on 17000/65727 queries. users per second: 726.071"
      ]
     },
     "metadata": {},
     "output_type": "display_data"
    },
    {
     "data": {
      "text/html": [
       "<pre>recommendations finished on 18000/65727 queries. users per second: 728.907</pre>"
      ],
      "text/plain": [
       "recommendations finished on 18000/65727 queries. users per second: 728.907"
      ]
     },
     "metadata": {},
     "output_type": "display_data"
    },
    {
     "data": {
      "text/html": [
       "<pre>recommendations finished on 19000/65727 queries. users per second: 730.857</pre>"
      ],
      "text/plain": [
       "recommendations finished on 19000/65727 queries. users per second: 730.857"
      ]
     },
     "metadata": {},
     "output_type": "display_data"
    },
    {
     "data": {
      "text/html": [
       "<pre>recommendations finished on 20000/65727 queries. users per second: 732.872</pre>"
      ],
      "text/plain": [
       "recommendations finished on 20000/65727 queries. users per second: 732.872"
      ]
     },
     "metadata": {},
     "output_type": "display_data"
    },
    {
     "data": {
      "text/html": [
       "<pre>recommendations finished on 21000/65727 queries. users per second: 734.32</pre>"
      ],
      "text/plain": [
       "recommendations finished on 21000/65727 queries. users per second: 734.32"
      ]
     },
     "metadata": {},
     "output_type": "display_data"
    },
    {
     "data": {
      "text/html": [
       "<pre>recommendations finished on 22000/65727 queries. users per second: 735.888</pre>"
      ],
      "text/plain": [
       "recommendations finished on 22000/65727 queries. users per second: 735.888"
      ]
     },
     "metadata": {},
     "output_type": "display_data"
    },
    {
     "data": {
      "text/html": [
       "<pre>recommendations finished on 23000/65727 queries. users per second: 736.688</pre>"
      ],
      "text/plain": [
       "recommendations finished on 23000/65727 queries. users per second: 736.688"
      ]
     },
     "metadata": {},
     "output_type": "display_data"
    },
    {
     "data": {
      "text/html": [
       "<pre>recommendations finished on 24000/65727 queries. users per second: 737.923</pre>"
      ],
      "text/plain": [
       "recommendations finished on 24000/65727 queries. users per second: 737.923"
      ]
     },
     "metadata": {},
     "output_type": "display_data"
    },
    {
     "data": {
      "text/html": [
       "<pre>recommendations finished on 25000/65727 queries. users per second: 737.3</pre>"
      ],
      "text/plain": [
       "recommendations finished on 25000/65727 queries. users per second: 737.3"
      ]
     },
     "metadata": {},
     "output_type": "display_data"
    },
    {
     "data": {
      "text/html": [
       "<pre>recommendations finished on 26000/65727 queries. users per second: 736.865</pre>"
      ],
      "text/plain": [
       "recommendations finished on 26000/65727 queries. users per second: 736.865"
      ]
     },
     "metadata": {},
     "output_type": "display_data"
    },
    {
     "data": {
      "text/html": [
       "<pre>recommendations finished on 27000/65727 queries. users per second: 736.73</pre>"
      ],
      "text/plain": [
       "recommendations finished on 27000/65727 queries. users per second: 736.73"
      ]
     },
     "metadata": {},
     "output_type": "display_data"
    },
    {
     "data": {
      "text/html": [
       "<pre>recommendations finished on 28000/65727 queries. users per second: 737.586</pre>"
      ],
      "text/plain": [
       "recommendations finished on 28000/65727 queries. users per second: 737.586"
      ]
     },
     "metadata": {},
     "output_type": "display_data"
    },
    {
     "data": {
      "text/html": [
       "<pre>recommendations finished on 29000/65727 queries. users per second: 734.553</pre>"
      ],
      "text/plain": [
       "recommendations finished on 29000/65727 queries. users per second: 734.553"
      ]
     },
     "metadata": {},
     "output_type": "display_data"
    },
    {
     "data": {
      "text/html": [
       "<pre>recommendations finished on 30000/65727 queries. users per second: 735.169</pre>"
      ],
      "text/plain": [
       "recommendations finished on 30000/65727 queries. users per second: 735.169"
      ]
     },
     "metadata": {},
     "output_type": "display_data"
    },
    {
     "data": {
      "text/html": [
       "<pre>recommendations finished on 31000/65727 queries. users per second: 733.835</pre>"
      ],
      "text/plain": [
       "recommendations finished on 31000/65727 queries. users per second: 733.835"
      ]
     },
     "metadata": {},
     "output_type": "display_data"
    },
    {
     "data": {
      "text/html": [
       "<pre>recommendations finished on 32000/65727 queries. users per second: 734.531</pre>"
      ],
      "text/plain": [
       "recommendations finished on 32000/65727 queries. users per second: 734.531"
      ]
     },
     "metadata": {},
     "output_type": "display_data"
    },
    {
     "data": {
      "text/html": [
       "<pre>recommendations finished on 33000/65727 queries. users per second: 735.246</pre>"
      ],
      "text/plain": [
       "recommendations finished on 33000/65727 queries. users per second: 735.246"
      ]
     },
     "metadata": {},
     "output_type": "display_data"
    },
    {
     "data": {
      "text/html": [
       "<pre>recommendations finished on 34000/65727 queries. users per second: 735.765</pre>"
      ],
      "text/plain": [
       "recommendations finished on 34000/65727 queries. users per second: 735.765"
      ]
     },
     "metadata": {},
     "output_type": "display_data"
    },
    {
     "data": {
      "text/html": [
       "<pre>recommendations finished on 35000/65727 queries. users per second: 736.338</pre>"
      ],
      "text/plain": [
       "recommendations finished on 35000/65727 queries. users per second: 736.338"
      ]
     },
     "metadata": {},
     "output_type": "display_data"
    },
    {
     "data": {
      "text/html": [
       "<pre>recommendations finished on 36000/65727 queries. users per second: 737.195</pre>"
      ],
      "text/plain": [
       "recommendations finished on 36000/65727 queries. users per second: 737.195"
      ]
     },
     "metadata": {},
     "output_type": "display_data"
    },
    {
     "data": {
      "text/html": [
       "<pre>recommendations finished on 37000/65727 queries. users per second: 738.098</pre>"
      ],
      "text/plain": [
       "recommendations finished on 37000/65727 queries. users per second: 738.098"
      ]
     },
     "metadata": {},
     "output_type": "display_data"
    },
    {
     "data": {
      "text/html": [
       "<pre>recommendations finished on 38000/65727 queries. users per second: 738.518</pre>"
      ],
      "text/plain": [
       "recommendations finished on 38000/65727 queries. users per second: 738.518"
      ]
     },
     "metadata": {},
     "output_type": "display_data"
    },
    {
     "data": {
      "text/html": [
       "<pre>recommendations finished on 39000/65727 queries. users per second: 739.335</pre>"
      ],
      "text/plain": [
       "recommendations finished on 39000/65727 queries. users per second: 739.335"
      ]
     },
     "metadata": {},
     "output_type": "display_data"
    },
    {
     "data": {
      "text/html": [
       "<pre>recommendations finished on 40000/65727 queries. users per second: 739.826</pre>"
      ],
      "text/plain": [
       "recommendations finished on 40000/65727 queries. users per second: 739.826"
      ]
     },
     "metadata": {},
     "output_type": "display_data"
    },
    {
     "data": {
      "text/html": [
       "<pre>recommendations finished on 41000/65727 queries. users per second: 740.31</pre>"
      ],
      "text/plain": [
       "recommendations finished on 41000/65727 queries. users per second: 740.31"
      ]
     },
     "metadata": {},
     "output_type": "display_data"
    },
    {
     "data": {
      "text/html": [
       "<pre>recommendations finished on 42000/65727 queries. users per second: 740.63</pre>"
      ],
      "text/plain": [
       "recommendations finished on 42000/65727 queries. users per second: 740.63"
      ]
     },
     "metadata": {},
     "output_type": "display_data"
    },
    {
     "data": {
      "text/html": [
       "<pre>recommendations finished on 43000/65727 queries. users per second: 741.071</pre>"
      ],
      "text/plain": [
       "recommendations finished on 43000/65727 queries. users per second: 741.071"
      ]
     },
     "metadata": {},
     "output_type": "display_data"
    },
    {
     "data": {
      "text/html": [
       "<pre>recommendations finished on 44000/65727 queries. users per second: 741.42</pre>"
      ],
      "text/plain": [
       "recommendations finished on 44000/65727 queries. users per second: 741.42"
      ]
     },
     "metadata": {},
     "output_type": "display_data"
    },
    {
     "data": {
      "text/html": [
       "<pre>recommendations finished on 45000/65727 queries. users per second: 741.631</pre>"
      ],
      "text/plain": [
       "recommendations finished on 45000/65727 queries. users per second: 741.631"
      ]
     },
     "metadata": {},
     "output_type": "display_data"
    },
    {
     "data": {
      "text/html": [
       "<pre>recommendations finished on 46000/65727 queries. users per second: 741.741</pre>"
      ],
      "text/plain": [
       "recommendations finished on 46000/65727 queries. users per second: 741.741"
      ]
     },
     "metadata": {},
     "output_type": "display_data"
    },
    {
     "data": {
      "text/html": [
       "<pre>recommendations finished on 47000/65727 queries. users per second: 741.943</pre>"
      ],
      "text/plain": [
       "recommendations finished on 47000/65727 queries. users per second: 741.943"
      ]
     },
     "metadata": {},
     "output_type": "display_data"
    },
    {
     "data": {
      "text/html": [
       "<pre>recommendations finished on 48000/65727 queries. users per second: 742.046</pre>"
      ],
      "text/plain": [
       "recommendations finished on 48000/65727 queries. users per second: 742.046"
      ]
     },
     "metadata": {},
     "output_type": "display_data"
    },
    {
     "data": {
      "text/html": [
       "<pre>recommendations finished on 49000/65727 queries. users per second: 742.234</pre>"
      ],
      "text/plain": [
       "recommendations finished on 49000/65727 queries. users per second: 742.234"
      ]
     },
     "metadata": {},
     "output_type": "display_data"
    },
    {
     "data": {
      "text/html": [
       "<pre>recommendations finished on 50000/65727 queries. users per second: 742.504</pre>"
      ],
      "text/plain": [
       "recommendations finished on 50000/65727 queries. users per second: 742.504"
      ]
     },
     "metadata": {},
     "output_type": "display_data"
    },
    {
     "data": {
      "text/html": [
       "<pre>recommendations finished on 51000/65727 queries. users per second: 742.701</pre>"
      ],
      "text/plain": [
       "recommendations finished on 51000/65727 queries. users per second: 742.701"
      ]
     },
     "metadata": {},
     "output_type": "display_data"
    },
    {
     "data": {
      "text/html": [
       "<pre>recommendations finished on 52000/65727 queries. users per second: 742.783</pre>"
      ],
      "text/plain": [
       "recommendations finished on 52000/65727 queries. users per second: 742.783"
      ]
     },
     "metadata": {},
     "output_type": "display_data"
    },
    {
     "data": {
      "text/html": [
       "<pre>recommendations finished on 53000/65727 queries. users per second: 743.078</pre>"
      ],
      "text/plain": [
       "recommendations finished on 53000/65727 queries. users per second: 743.078"
      ]
     },
     "metadata": {},
     "output_type": "display_data"
    },
    {
     "data": {
      "text/html": [
       "<pre>recommendations finished on 54000/65727 queries. users per second: 743.214</pre>"
      ],
      "text/plain": [
       "recommendations finished on 54000/65727 queries. users per second: 743.214"
      ]
     },
     "metadata": {},
     "output_type": "display_data"
    },
    {
     "data": {
      "text/html": [
       "<pre>recommendations finished on 55000/65727 queries. users per second: 743.573</pre>"
      ],
      "text/plain": [
       "recommendations finished on 55000/65727 queries. users per second: 743.573"
      ]
     },
     "metadata": {},
     "output_type": "display_data"
    },
    {
     "data": {
      "text/html": [
       "<pre>recommendations finished on 56000/65727 queries. users per second: 743.851</pre>"
      ],
      "text/plain": [
       "recommendations finished on 56000/65727 queries. users per second: 743.851"
      ]
     },
     "metadata": {},
     "output_type": "display_data"
    },
    {
     "data": {
      "text/html": [
       "<pre>recommendations finished on 57000/65727 queries. users per second: 744.192</pre>"
      ],
      "text/plain": [
       "recommendations finished on 57000/65727 queries. users per second: 744.192"
      ]
     },
     "metadata": {},
     "output_type": "display_data"
    },
    {
     "data": {
      "text/html": [
       "<pre>recommendations finished on 58000/65727 queries. users per second: 744.455</pre>"
      ],
      "text/plain": [
       "recommendations finished on 58000/65727 queries. users per second: 744.455"
      ]
     },
     "metadata": {},
     "output_type": "display_data"
    },
    {
     "data": {
      "text/html": [
       "<pre>recommendations finished on 59000/65727 queries. users per second: 744.745</pre>"
      ],
      "text/plain": [
       "recommendations finished on 59000/65727 queries. users per second: 744.745"
      ]
     },
     "metadata": {},
     "output_type": "display_data"
    },
    {
     "data": {
      "text/html": [
       "<pre>recommendations finished on 60000/65727 queries. users per second: 744.792</pre>"
      ],
      "text/plain": [
       "recommendations finished on 60000/65727 queries. users per second: 744.792"
      ]
     },
     "metadata": {},
     "output_type": "display_data"
    },
    {
     "data": {
      "text/html": [
       "<pre>recommendations finished on 61000/65727 queries. users per second: 745.117</pre>"
      ],
      "text/plain": [
       "recommendations finished on 61000/65727 queries. users per second: 745.117"
      ]
     },
     "metadata": {},
     "output_type": "display_data"
    },
    {
     "data": {
      "text/html": [
       "<pre>recommendations finished on 62000/65727 queries. users per second: 745.361</pre>"
      ],
      "text/plain": [
       "recommendations finished on 62000/65727 queries. users per second: 745.361"
      ]
     },
     "metadata": {},
     "output_type": "display_data"
    },
    {
     "data": {
      "text/html": [
       "<pre>recommendations finished on 63000/65727 queries. users per second: 745.606</pre>"
      ],
      "text/plain": [
       "recommendations finished on 63000/65727 queries. users per second: 745.606"
      ]
     },
     "metadata": {},
     "output_type": "display_data"
    },
    {
     "data": {
      "text/html": [
       "<pre>recommendations finished on 64000/65727 queries. users per second: 745.728</pre>"
      ],
      "text/plain": [
       "recommendations finished on 64000/65727 queries. users per second: 745.728"
      ]
     },
     "metadata": {},
     "output_type": "display_data"
    },
    {
     "data": {
      "text/html": [
       "<pre>recommendations finished on 65000/65727 queries. users per second: 745.94</pre>"
      ],
      "text/plain": [
       "recommendations finished on 65000/65727 queries. users per second: 745.94"
      ]
     },
     "metadata": {},
     "output_type": "display_data"
    },
    {
     "name": "stdout",
     "output_type": "stream",
     "text": [
      "\n",
      "Precision and recall summary statistics by cutoff\n",
      "+--------+-------------------+-------------------+\n",
      "| cutoff |   mean_precision  |    mean_recall    |\n",
      "+--------+-------------------+-------------------+\n",
      "|   1    | 0.000106501133476 | 2.37228446736e-05 |\n",
      "|   2    | 0.000106501133476 | 4.74501380161e-05 |\n",
      "|   3    | 9.63581683834e-05 | 5.52933723873e-05 |\n",
      "|   4    | 0.000102697521566 | 6.71332553317e-05 |\n",
      "|   5    | 0.000106501133476 | 7.87693389234e-05 |\n",
      "|   6    | 0.000111572616023 |  8.6181331126e-05 |\n",
      "|   7    | 0.000108674625996 | 9.49666577992e-05 |\n",
      "|   8    | 0.000114108357296 | 0.000109346350051 |\n",
      "|   9    | 0.000111572616023 | 0.000118589470077 |\n",
      "|   10   |  0.00011562980206 | 0.000138867028366 |\n",
      "+--------+-------------------+-------------------+\n",
      "[10 rows x 3 columns]\n",
      "\n",
      "('\\nOverall RMSE: ', 1.6098953657779962)\n",
      "\n",
      "Per User RMSE (best)\n",
      "+-----------+-------+-------------------+\n",
      "|    uid    | count |        rmse       |\n",
      "+-----------+-------+-------------------+\n",
      "| 154456365 |   4   | 4.42282944081e-06 |\n",
      "+-----------+-------+-------------------+\n",
      "[1 rows x 3 columns]\n",
      "\n",
      "\n",
      "Per User RMSE (worst)\n",
      "+-----------+-------+--------------+\n",
      "|    uid    | count |     rmse     |\n",
      "+-----------+-------+--------------+\n",
      "| 154483491 |   1   | 6.9867300422 |\n",
      "+-----------+-------+--------------+\n",
      "[1 rows x 3 columns]\n",
      "\n",
      "\n",
      "Per Item RMSE (best)\n",
      "+---------+-------+-------------------+\n",
      "|   rid   | count |        rmse       |\n",
      "+---------+-------+-------------------+\n",
      "| 6458484 |   1   | 2.13524078507e-06 |\n",
      "+---------+-------+-------------------+\n",
      "[1 rows x 3 columns]\n",
      "\n",
      "\n",
      "Per Item RMSE (worst)\n",
      "+---------+-------+---------------+\n",
      "|   rid   | count |      rmse     |\n",
      "+---------+-------+---------------+\n",
      "| 6692664 |   1   | 6.00336735388 |\n",
      "+---------+-------+---------------+\n",
      "[1 rows x 3 columns]\n",
      "\n",
      "PROGRESS: Evaluate model m2\n"
     ]
    },
    {
     "data": {
      "text/html": [
       "<pre>recommendations finished on 1000/65727 queries. users per second: 330.928</pre>"
      ],
      "text/plain": [
       "recommendations finished on 1000/65727 queries. users per second: 330.928"
      ]
     },
     "metadata": {},
     "output_type": "display_data"
    },
    {
     "data": {
      "text/html": [
       "<pre>recommendations finished on 2000/65727 queries. users per second: 389.222</pre>"
      ],
      "text/plain": [
       "recommendations finished on 2000/65727 queries. users per second: 389.222"
      ]
     },
     "metadata": {},
     "output_type": "display_data"
    },
    {
     "data": {
      "text/html": [
       "<pre>recommendations finished on 3000/65727 queries. users per second: 407.79</pre>"
      ],
      "text/plain": [
       "recommendations finished on 3000/65727 queries. users per second: 407.79"
      ]
     },
     "metadata": {},
     "output_type": "display_data"
    },
    {
     "data": {
      "text/html": [
       "<pre>recommendations finished on 4000/65727 queries. users per second: 422.679</pre>"
      ],
      "text/plain": [
       "recommendations finished on 4000/65727 queries. users per second: 422.679"
      ]
     },
     "metadata": {},
     "output_type": "display_data"
    },
    {
     "data": {
      "text/html": [
       "<pre>recommendations finished on 5000/65727 queries. users per second: 421.976</pre>"
      ],
      "text/plain": [
       "recommendations finished on 5000/65727 queries. users per second: 421.976"
      ]
     },
     "metadata": {},
     "output_type": "display_data"
    },
    {
     "data": {
      "text/html": [
       "<pre>recommendations finished on 6000/65727 queries. users per second: 412.049</pre>"
      ],
      "text/plain": [
       "recommendations finished on 6000/65727 queries. users per second: 412.049"
      ]
     },
     "metadata": {},
     "output_type": "display_data"
    },
    {
     "data": {
      "text/html": [
       "<pre>recommendations finished on 7000/65727 queries. users per second: 410.433</pre>"
      ],
      "text/plain": [
       "recommendations finished on 7000/65727 queries. users per second: 410.433"
      ]
     },
     "metadata": {},
     "output_type": "display_data"
    },
    {
     "data": {
      "text/html": [
       "<pre>recommendations finished on 8000/65727 queries. users per second: 410.702</pre>"
      ],
      "text/plain": [
       "recommendations finished on 8000/65727 queries. users per second: 410.702"
      ]
     },
     "metadata": {},
     "output_type": "display_data"
    },
    {
     "data": {
      "text/html": [
       "<pre>recommendations finished on 9000/65727 queries. users per second: 400.656</pre>"
      ],
      "text/plain": [
       "recommendations finished on 9000/65727 queries. users per second: 400.656"
      ]
     },
     "metadata": {},
     "output_type": "display_data"
    },
    {
     "data": {
      "text/html": [
       "<pre>recommendations finished on 10000/65727 queries. users per second: 398.248</pre>"
      ],
      "text/plain": [
       "recommendations finished on 10000/65727 queries. users per second: 398.248"
      ]
     },
     "metadata": {},
     "output_type": "display_data"
    },
    {
     "data": {
      "text/html": [
       "<pre>recommendations finished on 11000/65727 queries. users per second: 398.835</pre>"
      ],
      "text/plain": [
       "recommendations finished on 11000/65727 queries. users per second: 398.835"
      ]
     },
     "metadata": {},
     "output_type": "display_data"
    },
    {
     "data": {
      "text/html": [
       "<pre>recommendations finished on 12000/65727 queries. users per second: 398.989</pre>"
      ],
      "text/plain": [
       "recommendations finished on 12000/65727 queries. users per second: 398.989"
      ]
     },
     "metadata": {},
     "output_type": "display_data"
    },
    {
     "data": {
      "text/html": [
       "<pre>recommendations finished on 13000/65727 queries. users per second: 403.537</pre>"
      ],
      "text/plain": [
       "recommendations finished on 13000/65727 queries. users per second: 403.537"
      ]
     },
     "metadata": {},
     "output_type": "display_data"
    },
    {
     "data": {
      "text/html": [
       "<pre>recommendations finished on 14000/65727 queries. users per second: 404.365</pre>"
      ],
      "text/plain": [
       "recommendations finished on 14000/65727 queries. users per second: 404.365"
      ]
     },
     "metadata": {},
     "output_type": "display_data"
    },
    {
     "data": {
      "text/html": [
       "<pre>recommendations finished on 15000/65727 queries. users per second: 405.658</pre>"
      ],
      "text/plain": [
       "recommendations finished on 15000/65727 queries. users per second: 405.658"
      ]
     },
     "metadata": {},
     "output_type": "display_data"
    },
    {
     "data": {
      "text/html": [
       "<pre>recommendations finished on 16000/65727 queries. users per second: 411.202</pre>"
      ],
      "text/plain": [
       "recommendations finished on 16000/65727 queries. users per second: 411.202"
      ]
     },
     "metadata": {},
     "output_type": "display_data"
    },
    {
     "data": {
      "text/html": [
       "<pre>recommendations finished on 17000/65727 queries. users per second: 416.429</pre>"
      ],
      "text/plain": [
       "recommendations finished on 17000/65727 queries. users per second: 416.429"
      ]
     },
     "metadata": {},
     "output_type": "display_data"
    },
    {
     "data": {
      "text/html": [
       "<pre>recommendations finished on 18000/65727 queries. users per second: 421.147</pre>"
      ],
      "text/plain": [
       "recommendations finished on 18000/65727 queries. users per second: 421.147"
      ]
     },
     "metadata": {},
     "output_type": "display_data"
    },
    {
     "data": {
      "text/html": [
       "<pre>recommendations finished on 19000/65727 queries. users per second: 425.505</pre>"
      ],
      "text/plain": [
       "recommendations finished on 19000/65727 queries. users per second: 425.505"
      ]
     },
     "metadata": {},
     "output_type": "display_data"
    },
    {
     "data": {
      "text/html": [
       "<pre>recommendations finished on 20000/65727 queries. users per second: 429.569</pre>"
      ],
      "text/plain": [
       "recommendations finished on 20000/65727 queries. users per second: 429.569"
      ]
     },
     "metadata": {},
     "output_type": "display_data"
    },
    {
     "data": {
      "text/html": [
       "<pre>recommendations finished on 21000/65727 queries. users per second: 432.474</pre>"
      ],
      "text/plain": [
       "recommendations finished on 21000/65727 queries. users per second: 432.474"
      ]
     },
     "metadata": {},
     "output_type": "display_data"
    },
    {
     "data": {
      "text/html": [
       "<pre>recommendations finished on 22000/65727 queries. users per second: 431.32</pre>"
      ],
      "text/plain": [
       "recommendations finished on 22000/65727 queries. users per second: 431.32"
      ]
     },
     "metadata": {},
     "output_type": "display_data"
    },
    {
     "data": {
      "text/html": [
       "<pre>recommendations finished on 23000/65727 queries. users per second: 425.334</pre>"
      ],
      "text/plain": [
       "recommendations finished on 23000/65727 queries. users per second: 425.334"
      ]
     },
     "metadata": {},
     "output_type": "display_data"
    },
    {
     "data": {
      "text/html": [
       "<pre>recommendations finished on 24000/65727 queries. users per second: 425.197</pre>"
      ],
      "text/plain": [
       "recommendations finished on 24000/65727 queries. users per second: 425.197"
      ]
     },
     "metadata": {},
     "output_type": "display_data"
    },
    {
     "data": {
      "text/html": [
       "<pre>recommendations finished on 25000/65727 queries. users per second: 419.602</pre>"
      ],
      "text/plain": [
       "recommendations finished on 25000/65727 queries. users per second: 419.602"
      ]
     },
     "metadata": {},
     "output_type": "display_data"
    },
    {
     "data": {
      "text/html": [
       "<pre>recommendations finished on 26000/65727 queries. users per second: 416.763</pre>"
      ],
      "text/plain": [
       "recommendations finished on 26000/65727 queries. users per second: 416.763"
      ]
     },
     "metadata": {},
     "output_type": "display_data"
    },
    {
     "data": {
      "text/html": [
       "<pre>recommendations finished on 27000/65727 queries. users per second: 412.901</pre>"
      ],
      "text/plain": [
       "recommendations finished on 27000/65727 queries. users per second: 412.901"
      ]
     },
     "metadata": {},
     "output_type": "display_data"
    },
    {
     "data": {
      "text/html": [
       "<pre>recommendations finished on 28000/65727 queries. users per second: 409.505</pre>"
      ],
      "text/plain": [
       "recommendations finished on 28000/65727 queries. users per second: 409.505"
      ]
     },
     "metadata": {},
     "output_type": "display_data"
    },
    {
     "data": {
      "text/html": [
       "<pre>recommendations finished on 29000/65727 queries. users per second: 401.123</pre>"
      ],
      "text/plain": [
       "recommendations finished on 29000/65727 queries. users per second: 401.123"
      ]
     },
     "metadata": {},
     "output_type": "display_data"
    },
    {
     "data": {
      "text/html": [
       "<pre>recommendations finished on 30000/65727 queries. users per second: 398.175</pre>"
      ],
      "text/plain": [
       "recommendations finished on 30000/65727 queries. users per second: 398.175"
      ]
     },
     "metadata": {},
     "output_type": "display_data"
    },
    {
     "data": {
      "text/html": [
       "<pre>recommendations finished on 31000/65727 queries. users per second: 393.294</pre>"
      ],
      "text/plain": [
       "recommendations finished on 31000/65727 queries. users per second: 393.294"
      ]
     },
     "metadata": {},
     "output_type": "display_data"
    },
    {
     "data": {
      "text/html": [
       "<pre>recommendations finished on 32000/65727 queries. users per second: 385.729</pre>"
      ],
      "text/plain": [
       "recommendations finished on 32000/65727 queries. users per second: 385.729"
      ]
     },
     "metadata": {},
     "output_type": "display_data"
    },
    {
     "data": {
      "text/html": [
       "<pre>recommendations finished on 33000/65727 queries. users per second: 380.956</pre>"
      ],
      "text/plain": [
       "recommendations finished on 33000/65727 queries. users per second: 380.956"
      ]
     },
     "metadata": {},
     "output_type": "display_data"
    },
    {
     "data": {
      "text/html": [
       "<pre>recommendations finished on 34000/65727 queries. users per second: 378.493</pre>"
      ],
      "text/plain": [
       "recommendations finished on 34000/65727 queries. users per second: 378.493"
      ]
     },
     "metadata": {},
     "output_type": "display_data"
    },
    {
     "data": {
      "text/html": [
       "<pre>recommendations finished on 35000/65727 queries. users per second: 380.148</pre>"
      ],
      "text/plain": [
       "recommendations finished on 35000/65727 queries. users per second: 380.148"
      ]
     },
     "metadata": {},
     "output_type": "display_data"
    },
    {
     "data": {
      "text/html": [
       "<pre>recommendations finished on 36000/65727 queries. users per second: 382.509</pre>"
      ],
      "text/plain": [
       "recommendations finished on 36000/65727 queries. users per second: 382.509"
      ]
     },
     "metadata": {},
     "output_type": "display_data"
    },
    {
     "data": {
      "text/html": [
       "<pre>recommendations finished on 37000/65727 queries. users per second: 382.765</pre>"
      ],
      "text/plain": [
       "recommendations finished on 37000/65727 queries. users per second: 382.765"
      ]
     },
     "metadata": {},
     "output_type": "display_data"
    },
    {
     "data": {
      "text/html": [
       "<pre>recommendations finished on 38000/65727 queries. users per second: 382.07</pre>"
      ],
      "text/plain": [
       "recommendations finished on 38000/65727 queries. users per second: 382.07"
      ]
     },
     "metadata": {},
     "output_type": "display_data"
    },
    {
     "data": {
      "text/html": [
       "<pre>recommendations finished on 39000/65727 queries. users per second: 380.439</pre>"
      ],
      "text/plain": [
       "recommendations finished on 39000/65727 queries. users per second: 380.439"
      ]
     },
     "metadata": {},
     "output_type": "display_data"
    },
    {
     "data": {
      "text/html": [
       "<pre>recommendations finished on 40000/65727 queries. users per second: 373.539</pre>"
      ],
      "text/plain": [
       "recommendations finished on 40000/65727 queries. users per second: 373.539"
      ]
     },
     "metadata": {},
     "output_type": "display_data"
    },
    {
     "data": {
      "text/html": [
       "<pre>recommendations finished on 41000/65727 queries. users per second: 370.961</pre>"
      ],
      "text/plain": [
       "recommendations finished on 41000/65727 queries. users per second: 370.961"
      ]
     },
     "metadata": {},
     "output_type": "display_data"
    },
    {
     "data": {
      "text/html": [
       "<pre>recommendations finished on 42000/65727 queries. users per second: 369.117</pre>"
      ],
      "text/plain": [
       "recommendations finished on 42000/65727 queries. users per second: 369.117"
      ]
     },
     "metadata": {},
     "output_type": "display_data"
    },
    {
     "data": {
      "text/html": [
       "<pre>recommendations finished on 43000/65727 queries. users per second: 365.34</pre>"
      ],
      "text/plain": [
       "recommendations finished on 43000/65727 queries. users per second: 365.34"
      ]
     },
     "metadata": {},
     "output_type": "display_data"
    },
    {
     "data": {
      "text/html": [
       "<pre>recommendations finished on 44000/65727 queries. users per second: 363.758</pre>"
      ],
      "text/plain": [
       "recommendations finished on 44000/65727 queries. users per second: 363.758"
      ]
     },
     "metadata": {},
     "output_type": "display_data"
    },
    {
     "data": {
      "text/html": [
       "<pre>recommendations finished on 45000/65727 queries. users per second: 361.305</pre>"
      ],
      "text/plain": [
       "recommendations finished on 45000/65727 queries. users per second: 361.305"
      ]
     },
     "metadata": {},
     "output_type": "display_data"
    },
    {
     "data": {
      "text/html": [
       "<pre>recommendations finished on 46000/65727 queries. users per second: 357.062</pre>"
      ],
      "text/plain": [
       "recommendations finished on 46000/65727 queries. users per second: 357.062"
      ]
     },
     "metadata": {},
     "output_type": "display_data"
    },
    {
     "data": {
      "text/html": [
       "<pre>recommendations finished on 47000/65727 queries. users per second: 355.481</pre>"
      ],
      "text/plain": [
       "recommendations finished on 47000/65727 queries. users per second: 355.481"
      ]
     },
     "metadata": {},
     "output_type": "display_data"
    },
    {
     "data": {
      "text/html": [
       "<pre>recommendations finished on 48000/65727 queries. users per second: 352.569</pre>"
      ],
      "text/plain": [
       "recommendations finished on 48000/65727 queries. users per second: 352.569"
      ]
     },
     "metadata": {},
     "output_type": "display_data"
    },
    {
     "data": {
      "text/html": [
       "<pre>recommendations finished on 49000/65727 queries. users per second: 350.998</pre>"
      ],
      "text/plain": [
       "recommendations finished on 49000/65727 queries. users per second: 350.998"
      ]
     },
     "metadata": {},
     "output_type": "display_data"
    },
    {
     "data": {
      "text/html": [
       "<pre>recommendations finished on 50000/65727 queries. users per second: 350.651</pre>"
      ],
      "text/plain": [
       "recommendations finished on 50000/65727 queries. users per second: 350.651"
      ]
     },
     "metadata": {},
     "output_type": "display_data"
    },
    {
     "data": {
      "text/html": [
       "<pre>recommendations finished on 51000/65727 queries. users per second: 350.879</pre>"
      ],
      "text/plain": [
       "recommendations finished on 51000/65727 queries. users per second: 350.879"
      ]
     },
     "metadata": {},
     "output_type": "display_data"
    },
    {
     "data": {
      "text/html": [
       "<pre>recommendations finished on 52000/65727 queries. users per second: 349.381</pre>"
      ],
      "text/plain": [
       "recommendations finished on 52000/65727 queries. users per second: 349.381"
      ]
     },
     "metadata": {},
     "output_type": "display_data"
    },
    {
     "data": {
      "text/html": [
       "<pre>recommendations finished on 53000/65727 queries. users per second: 347.175</pre>"
      ],
      "text/plain": [
       "recommendations finished on 53000/65727 queries. users per second: 347.175"
      ]
     },
     "metadata": {},
     "output_type": "display_data"
    },
    {
     "data": {
      "text/html": [
       "<pre>recommendations finished on 54000/65727 queries. users per second: 345.248</pre>"
      ],
      "text/plain": [
       "recommendations finished on 54000/65727 queries. users per second: 345.248"
      ]
     },
     "metadata": {},
     "output_type": "display_data"
    },
    {
     "data": {
      "text/html": [
       "<pre>recommendations finished on 55000/65727 queries. users per second: 343.363</pre>"
      ],
      "text/plain": [
       "recommendations finished on 55000/65727 queries. users per second: 343.363"
      ]
     },
     "metadata": {},
     "output_type": "display_data"
    },
    {
     "data": {
      "text/html": [
       "<pre>recommendations finished on 56000/65727 queries. users per second: 343.418</pre>"
      ],
      "text/plain": [
       "recommendations finished on 56000/65727 queries. users per second: 343.418"
      ]
     },
     "metadata": {},
     "output_type": "display_data"
    },
    {
     "data": {
      "text/html": [
       "<pre>recommendations finished on 57000/65727 queries. users per second: 343.538</pre>"
      ],
      "text/plain": [
       "recommendations finished on 57000/65727 queries. users per second: 343.538"
      ]
     },
     "metadata": {},
     "output_type": "display_data"
    },
    {
     "data": {
      "text/html": [
       "<pre>recommendations finished on 58000/65727 queries. users per second: 343.337</pre>"
      ],
      "text/plain": [
       "recommendations finished on 58000/65727 queries. users per second: 343.337"
      ]
     },
     "metadata": {},
     "output_type": "display_data"
    },
    {
     "data": {
      "text/html": [
       "<pre>recommendations finished on 59000/65727 queries. users per second: 343.587</pre>"
      ],
      "text/plain": [
       "recommendations finished on 59000/65727 queries. users per second: 343.587"
      ]
     },
     "metadata": {},
     "output_type": "display_data"
    },
    {
     "data": {
      "text/html": [
       "<pre>recommendations finished on 60000/65727 queries. users per second: 343.584</pre>"
      ],
      "text/plain": [
       "recommendations finished on 60000/65727 queries. users per second: 343.584"
      ]
     },
     "metadata": {},
     "output_type": "display_data"
    },
    {
     "data": {
      "text/html": [
       "<pre>recommendations finished on 61000/65727 queries. users per second: 343.953</pre>"
      ],
      "text/plain": [
       "recommendations finished on 61000/65727 queries. users per second: 343.953"
      ]
     },
     "metadata": {},
     "output_type": "display_data"
    },
    {
     "data": {
      "text/html": [
       "<pre>recommendations finished on 62000/65727 queries. users per second: 342.127</pre>"
      ],
      "text/plain": [
       "recommendations finished on 62000/65727 queries. users per second: 342.127"
      ]
     },
     "metadata": {},
     "output_type": "display_data"
    },
    {
     "data": {
      "text/html": [
       "<pre>recommendations finished on 63000/65727 queries. users per second: 342.105</pre>"
      ],
      "text/plain": [
       "recommendations finished on 63000/65727 queries. users per second: 342.105"
      ]
     },
     "metadata": {},
     "output_type": "display_data"
    },
    {
     "data": {
      "text/html": [
       "<pre>recommendations finished on 64000/65727 queries. users per second: 343.716</pre>"
      ],
      "text/plain": [
       "recommendations finished on 64000/65727 queries. users per second: 343.716"
      ]
     },
     "metadata": {},
     "output_type": "display_data"
    },
    {
     "data": {
      "text/html": [
       "<pre>recommendations finished on 65000/65727 queries. users per second: 345.446</pre>"
      ],
      "text/plain": [
       "recommendations finished on 65000/65727 queries. users per second: 345.446"
      ]
     },
     "metadata": {},
     "output_type": "display_data"
    },
    {
     "name": "stdout",
     "output_type": "stream",
     "text": [
      "\n",
      "Precision and recall summary statistics by cutoff\n",
      "+--------+------------------+------------------+\n",
      "| cutoff |  mean_precision  |   mean_recall    |\n",
      "+--------+------------------+------------------+\n",
      "|   1    | 0.00680085809485 | 0.00188380072036 |\n",
      "|   2    | 0.00704428925708 | 0.00383631083749 |\n",
      "|   3    | 0.00701893184435 | 0.00586865731569 |\n",
      "|   4    | 0.00678564364721 | 0.00776609400638 |\n",
      "|   5    | 0.00665784228704 | 0.00959663841984 |\n",
      "|   6    | 0.00697328850143 |  0.013124980167  |\n",
      "|   7    | 0.00686606287044 | 0.0149992160775  |\n",
      "|   8    | 0.00677042919957 | 0.0168681698149  |\n",
      "|   9    |   0.0070899326   | 0.0214117404162  |\n",
      "|   10   | 0.00690888067309 | 0.0229616195174  |\n",
      "+--------+------------------+------------------+\n",
      "[10 rows x 3 columns]\n",
      "\n",
      "('\\nOverall RMSE: ', 1.7081122966512268)\n",
      "\n",
      "Per User RMSE (best)\n",
      "+-----------+-------+------------------+\n",
      "|    uid    | count |       rmse       |\n",
      "+-----------+-------+------------------+\n",
      "| 154804552 |   1   | 4.1674173088e-05 |\n",
      "+-----------+-------+------------------+\n",
      "[1 rows x 3 columns]\n",
      "\n",
      "\n",
      "Per User RMSE (worst)\n",
      "+-----------+-------+---------------+\n",
      "|    uid    | count |      rmse     |\n",
      "+-----------+-------+---------------+\n",
      "| 154653116 |   1   | 5.35796778342 |\n",
      "+-----------+-------+---------------+\n",
      "[1 rows x 3 columns]\n",
      "\n",
      "\n",
      "Per Item RMSE (best)\n",
      "+---------+-------+-------------------+\n",
      "|   rid   | count |        rmse       |\n",
      "+---------+-------+-------------------+\n",
      "| 4469897 |   1   | 1.26467110824e-05 |\n",
      "+---------+-------+-------------------+\n",
      "[1 rows x 3 columns]\n",
      "\n",
      "\n",
      "Per Item RMSE (worst)\n",
      "+---------+-------+--------------+\n",
      "|   rid   | count |     rmse     |\n",
      "+---------+-------+--------------+\n",
      "| 3222891 |   1   | 8.7042699351 |\n",
      "+---------+-------+--------------+\n",
      "[1 rows x 3 columns]\n",
      "\n"
     ]
    },
    {
     "data": {
      "text/plain": [
       "[{'precision_recall_by_user': Columns:\n",
       "  \tuid\tint\n",
       "  \tcutoff\tint\n",
       "  \tprecision\tfloat\n",
       "  \trecall\tfloat\n",
       "  \tcount\tint\n",
       "  \n",
       "  Rows: 1183086\n",
       "  \n",
       "  Data:\n",
       "  +-----+--------+-----------+--------+-------+\n",
       "  | uid | cutoff | precision | recall | count |\n",
       "  +-----+--------+-----------+--------+-------+\n",
       "  |  0  |   1    |    0.0    |  0.0   |   54  |\n",
       "  |  0  |   2    |    0.0    |  0.0   |   54  |\n",
       "  |  0  |   3    |    0.0    |  0.0   |   54  |\n",
       "  |  0  |   4    |    0.0    |  0.0   |   54  |\n",
       "  |  0  |   5    |    0.0    |  0.0   |   54  |\n",
       "  |  0  |   6    |    0.0    |  0.0   |   54  |\n",
       "  |  0  |   7    |    0.0    |  0.0   |   54  |\n",
       "  |  0  |   8    |    0.0    |  0.0   |   54  |\n",
       "  |  0  |   9    |    0.0    |  0.0   |   54  |\n",
       "  |  0  |   10   |    0.0    |  0.0   |   54  |\n",
       "  +-----+--------+-----------+--------+-------+\n",
       "  [1183086 rows x 5 columns]\n",
       "  Note: Only the head of the SFrame is printed.\n",
       "  You can use print_rows(num_rows=m, num_columns=n) to print more rows and columns.,\n",
       "  'precision_recall_overall': Columns:\n",
       "  \tcutoff\tint\n",
       "  \tprecision\tfloat\n",
       "  \trecall\tfloat\n",
       "  \n",
       "  Rows: 18\n",
       "  \n",
       "  Data:\n",
       "  +--------+-------------------+-------------------+\n",
       "  | cutoff |     precision     |       recall      |\n",
       "  +--------+-------------------+-------------------+\n",
       "  |   1    | 0.000106501133476 | 2.37228446736e-05 |\n",
       "  |   2    | 0.000106501133476 | 4.74501380161e-05 |\n",
       "  |   3    | 9.63581683834e-05 | 5.52933723873e-05 |\n",
       "  |   4    | 0.000102697521566 | 6.71332553317e-05 |\n",
       "  |   5    | 0.000106501133476 | 7.87693389234e-05 |\n",
       "  |   6    | 0.000111572616023 |  8.6181331126e-05 |\n",
       "  |   7    | 0.000108674625996 | 9.49666577992e-05 |\n",
       "  |   8    | 0.000114108357296 | 0.000109346350051 |\n",
       "  |   9    | 0.000111572616023 | 0.000118589470077 |\n",
       "  |   10   |  0.00011562980206 | 0.000138867028366 |\n",
       "  +--------+-------------------+-------------------+\n",
       "  [18 rows x 3 columns]\n",
       "  Note: Only the head of the SFrame is printed.\n",
       "  You can use print_rows(num_rows=m, num_columns=n) to print more rows and columns.,\n",
       "  'rmse_by_item': Columns:\n",
       "  \trid\tint\n",
       "  \tcount\tint\n",
       "  \trmse\tfloat\n",
       "  \n",
       "  Rows: 77821\n",
       "  \n",
       "  Data:\n",
       "  +----------+-------+----------------+\n",
       "  |   rid    | count |      rmse      |\n",
       "  +----------+-------+----------------+\n",
       "  |  890642  |   6   | 1.45030664253  |\n",
       "  | 9615370  |   1   | 0.61378102442  |\n",
       "  | 19263865 |   1   | 4.08570682565  |\n",
       "  | 20631326 |   1   | 0.133355270422 |\n",
       "  | 4860288  |   2   | 0.633163812852 |\n",
       "  | 4644262  |   1   | 2.01897982816  |\n",
       "  |  551445  |   3   | 1.78127958272  |\n",
       "  |  620503  |   1   | 1.61752971569  |\n",
       "  |  833562  |   1   |  1.9521802173  |\n",
       "  |  80983   |   1   | 0.990020331645 |\n",
       "  +----------+-------+----------------+\n",
       "  [77821 rows x 3 columns]\n",
       "  Note: Only the head of the SFrame is printed.\n",
       "  You can use print_rows(num_rows=m, num_columns=n) to print more rows and columns.,\n",
       "  'rmse_by_user': Columns:\n",
       "  \tuid\tint\n",
       "  \tcount\tint\n",
       "  \trmse\tfloat\n",
       "  \n",
       "  Rows: 65727\n",
       "  \n",
       "  Data:\n",
       "  +-----------+-------+-----------------+\n",
       "  |    uid    | count |       rmse      |\n",
       "  +-----------+-------+-----------------+\n",
       "  | 154453542 |   1   | 0.0193829641702 |\n",
       "  | 154772077 |   1   |  0.504186500513 |\n",
       "  | 154733281 |   2   |  1.35907884876  |\n",
       "  | 154467418 |   4   |  0.756332368272 |\n",
       "  | 154792438 |   8   |  2.08699339718  |\n",
       "  | 154465049 |   21  |  1.38110871796  |\n",
       "  | 154832291 |   3   |  1.31463985453  |\n",
       "  | 154811637 |   20  |  1.04657718181  |\n",
       "  | 154730607 |   4   |  1.58921922228  |\n",
       "  | 154733701 |   2   |  3.36817040402  |\n",
       "  +-----------+-------+-----------------+\n",
       "  [65727 rows x 3 columns]\n",
       "  Note: Only the head of the SFrame is printed.\n",
       "  You can use print_rows(num_rows=m, num_columns=n) to print more rows and columns.,\n",
       "  'rmse_overall': 1.6098953657779962},\n",
       " {'precision_recall_by_user': Columns:\n",
       "  \tuid\tint\n",
       "  \tcutoff\tint\n",
       "  \tprecision\tfloat\n",
       "  \trecall\tfloat\n",
       "  \tcount\tint\n",
       "  \n",
       "  Rows: 1183086\n",
       "  \n",
       "  Data:\n",
       "  +-----+--------+-----------+--------+-------+\n",
       "  | uid | cutoff | precision | recall | count |\n",
       "  +-----+--------+-----------+--------+-------+\n",
       "  |  0  |   1    |    0.0    |  0.0   |   54  |\n",
       "  |  0  |   2    |    0.0    |  0.0   |   54  |\n",
       "  |  0  |   3    |    0.0    |  0.0   |   54  |\n",
       "  |  0  |   4    |    0.0    |  0.0   |   54  |\n",
       "  |  0  |   5    |    0.0    |  0.0   |   54  |\n",
       "  |  0  |   6    |    0.0    |  0.0   |   54  |\n",
       "  |  0  |   7    |    0.0    |  0.0   |   54  |\n",
       "  |  0  |   8    |    0.0    |  0.0   |   54  |\n",
       "  |  0  |   9    |    0.0    |  0.0   |   54  |\n",
       "  |  0  |   10   |    0.0    |  0.0   |   54  |\n",
       "  +-----+--------+-----------+--------+-------+\n",
       "  [1183086 rows x 5 columns]\n",
       "  Note: Only the head of the SFrame is printed.\n",
       "  You can use print_rows(num_rows=m, num_columns=n) to print more rows and columns.,\n",
       "  'precision_recall_overall': Columns:\n",
       "  \tcutoff\tint\n",
       "  \tprecision\tfloat\n",
       "  \trecall\tfloat\n",
       "  \n",
       "  Rows: 18\n",
       "  \n",
       "  Data:\n",
       "  +--------+------------------+------------------+\n",
       "  | cutoff |    precision     |      recall      |\n",
       "  +--------+------------------+------------------+\n",
       "  |   1    | 0.00680085809485 | 0.00188380072036 |\n",
       "  |   2    | 0.00704428925708 | 0.00383631083749 |\n",
       "  |   3    | 0.00701893184435 | 0.00586865731569 |\n",
       "  |   4    | 0.00678564364721 | 0.00776609400638 |\n",
       "  |   5    | 0.00665784228704 | 0.00959663841984 |\n",
       "  |   6    | 0.00697328850143 |  0.013124980167  |\n",
       "  |   7    | 0.00686606287044 | 0.0149992160775  |\n",
       "  |   8    | 0.00677042919957 | 0.0168681698149  |\n",
       "  |   9    |   0.0070899326   | 0.0214117404162  |\n",
       "  |   10   | 0.00690888067309 | 0.0229616195174  |\n",
       "  +--------+------------------+------------------+\n",
       "  [18 rows x 3 columns]\n",
       "  Note: Only the head of the SFrame is printed.\n",
       "  You can use print_rows(num_rows=m, num_columns=n) to print more rows and columns.,\n",
       "  'rmse_by_item': Columns:\n",
       "  \trid\tint\n",
       "  \tcount\tint\n",
       "  \trmse\tfloat\n",
       "  \n",
       "  Rows: 77821\n",
       "  \n",
       "  Data:\n",
       "  +----------+-------+-----------------+\n",
       "  |   rid    | count |       rmse      |\n",
       "  +----------+-------+-----------------+\n",
       "  |  890642  |   6   |  2.04398904657  |\n",
       "  | 9615370  |   1   |  0.610699821913 |\n",
       "  | 19263865 |   1   |  2.03894841979  |\n",
       "  | 20631326 |   1   | 0.0261106000306 |\n",
       "  | 4860288  |   2   |  0.104140543195 |\n",
       "  | 4644262  |   1   |  0.871035459733 |\n",
       "  |  551445  |   3   |   1.4248960126  |\n",
       "  |  620503  |   1   |  1.13002483984  |\n",
       "  |  833562  |   1   |  0.285830382907 |\n",
       "  |  80983   |   1   |  0.865532834732 |\n",
       "  +----------+-------+-----------------+\n",
       "  [77821 rows x 3 columns]\n",
       "  Note: Only the head of the SFrame is printed.\n",
       "  You can use print_rows(num_rows=m, num_columns=n) to print more rows and columns.,\n",
       "  'rmse_by_user': Columns:\n",
       "  \tuid\tint\n",
       "  \tcount\tint\n",
       "  \trmse\tfloat\n",
       "  \n",
       "  Rows: 65727\n",
       "  \n",
       "  Data:\n",
       "  +-----------+-------+-----------------+\n",
       "  |    uid    | count |       rmse      |\n",
       "  +-----------+-------+-----------------+\n",
       "  | 154453542 |   1   | 0.0522691502211 |\n",
       "  | 154772077 |   1   |  1.70080087026  |\n",
       "  | 154733281 |   2   |  1.25891451222  |\n",
       "  | 154467418 |   4   |  0.980302865834 |\n",
       "  | 154792438 |   8   |  2.04860912825  |\n",
       "  | 154465049 |   21  |  2.12706377429  |\n",
       "  | 154832291 |   3   |  1.38524479727  |\n",
       "  | 154811637 |   20  |  0.803045732835 |\n",
       "  | 154730607 |   4   |  1.60295295541  |\n",
       "  | 154733701 |   2   |  2.45092303733  |\n",
       "  +-----------+-------+-----------------+\n",
       "  [65727 rows x 3 columns]\n",
       "  Note: Only the head of the SFrame is printed.\n",
       "  You can use print_rows(num_rows=m, num_columns=n) to print more rows and columns.,\n",
       "  'rmse_overall': 1.7081122966512268}]"
      ]
     },
     "execution_count": 8,
     "metadata": {},
     "output_type": "execute_result"
    }
   ],
   "source": [
    "gl.recommender.util.compare_models(test_data, [m1, m2], model_names=[\"m1\", \"m2\"])"
   ]
  },
  {
   "cell_type": "code",
   "execution_count": null,
   "metadata": {
    "collapsed": true
   },
   "outputs": [],
   "source": []
  }
 ],
 "metadata": {
  "kernelspec": {
   "display_name": "Python 2",
   "language": "python",
   "name": "python2"
  },
  "language_info": {
   "codemirror_mode": {
    "name": "ipython",
    "version": 2
   },
   "file_extension": ".py",
   "mimetype": "text/x-python",
   "name": "python",
   "nbconvert_exporter": "python",
   "pygments_lexer": "ipython2",
   "version": "2.7.13"
  }
 },
 "nbformat": 4,
 "nbformat_minor": 2
}
